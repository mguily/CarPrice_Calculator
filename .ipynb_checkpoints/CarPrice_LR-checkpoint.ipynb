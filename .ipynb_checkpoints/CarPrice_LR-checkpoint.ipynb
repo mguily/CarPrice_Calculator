{
 "cells": [
  {
   "cell_type": "code",
   "execution_count": 1,
   "id": "6885f7e4-ccb1-4144-877c-7076dbf084c1",
   "metadata": {
    "scrolled": true
   },
   "outputs": [
    {
     "name": "stdout",
     "output_type": "stream",
     "text": [
      "MAE: 793.477135030119\n",
      "MSE: 818588.2528900569\n",
      "R2 Score: 0.9109049829961213\n"
     ]
    },
    {
     "data": {
      "text/plain": [
       "['car_price_model.pkl']"
      ]
     },
     "execution_count": 1,
     "metadata": {},
     "output_type": "execute_result"
    }
   ],
   "source": [
    "import pandas as pd\n",
    "from sklearn.model_selection import train_test_split\n",
    "from sklearn.preprocessing import LabelEncoder\n",
    "from sklearn.linear_model import LinearRegression\n",
    "from sklearn.metrics import mean_absolute_error, mean_squared_error, r2_score\n",
    "import joblib as jb\n",
    "\n",
    "# Cargar dataset\n",
    "car_df = pd.read_csv('car_price_dataset.csv')\n",
    "\n",
    "# Codificación de variables categóricas\n",
    "label_encoders = {}\n",
    "categorical_columns = ['Brand', 'Model', 'Fuel_Type', 'Transmission']\n",
    "\n",
    "for column in categorical_columns:\n",
    "    le = LabelEncoder()\n",
    "    car_df[column] = le.fit_transform(car_df[column])\n",
    "    label_encoders[column] = le  # Guardar para transformaciones futuras\n",
    "\n",
    "jb.dump(label_encoders, 'label_encoders.pkl')\n",
    "\n",
    "# Separación en variables independientes y objetivo\n",
    "X = car_df.drop(columns=['Price'])\n",
    "y = car_df['Price']\n",
    "\n",
    "# División en datos de entrenamiento y prueba\n",
    "X_train, X_test, y_train, y_test = train_test_split(X, y, test_size=0.2, random_state=42)\n",
    "\n",
    "# Entrenar modelo de regresión lineal\n",
    "model = LinearRegression()\n",
    "model.fit(X_train, y_train)\n",
    "\n",
    "# Predicciones\n",
    "y_pred = model.predict(X_test)\n",
    "\n",
    "# Evaluación del modelo con métricas adecuadas\n",
    "mae = mean_absolute_error(y_test, y_pred)\n",
    "mse = mean_squared_error(y_test, y_pred)\n",
    "r2 = r2_score(y_test, y_pred)\n",
    "\n",
    "# Guardar el modelo\n",
    "jb.dump(model, 'car_price_model.pkl')"
   ]
  }
 ],
 "metadata": {
  "kernelspec": {
   "display_name": "Python 3 (ipykernel)",
   "language": "python",
   "name": "python3"
  },
  "language_info": {
   "codemirror_mode": {
    "name": "ipython",
    "version": 3
   },
   "file_extension": ".py",
   "mimetype": "text/x-python",
   "name": "python",
   "nbconvert_exporter": "python",
   "pygments_lexer": "ipython3",
   "version": "3.12.7"
  }
 },
 "nbformat": 4,
 "nbformat_minor": 5
}
