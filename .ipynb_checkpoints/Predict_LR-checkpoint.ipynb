{
 "cells": [
  {
   "cell_type": "code",
   "execution_count": 1,
   "id": "82b2cd8c-d8f0-4b56-b57e-86dabc0d2186",
   "metadata": {},
   "outputs": [
    {
     "name": "stderr",
     "output_type": "stream",
     "text": [
      "E:\\Programas\\Anaconda\\Anaconda\\Lib\\site-packages\\sklearn\\base.py:376: InconsistentVersionWarning: Trying to unpickle estimator LinearRegression from version 1.4.2 when using version 1.5.1. This might lead to breaking code or invalid results. Use at your own risk. For more info please refer to:\n",
      "https://scikit-learn.org/stable/model_persistence.html#security-maintainability-limitations\n",
      "  warnings.warn(\n",
      "E:\\Programas\\Anaconda\\Anaconda\\Lib\\site-packages\\sklearn\\base.py:376: InconsistentVersionWarning: Trying to unpickle estimator LabelEncoder from version 1.4.2 when using version 1.5.1. This might lead to breaking code or invalid results. Use at your own risk. For more info please refer to:\n",
      "https://scikit-learn.org/stable/model_persistence.html#security-maintainability-limitations\n",
      "  warnings.warn(\n"
     ]
    },
    {
     "ename": "KeyboardInterrupt",
     "evalue": "Interrupted by user",
     "output_type": "error",
     "traceback": [
      "\u001b[1;31m---------------------------------------------------------------------------\u001b[0m",
      "\u001b[1;31mKeyboardInterrupt\u001b[0m                         Traceback (most recent call last)",
      "Cell \u001b[1;32mIn[1], line 40\u001b[0m\n\u001b[0;32m     37\u001b[0m             \u001b[38;5;28;01mreturn\u001b[39;00m valor\n\u001b[0;32m     39\u001b[0m \u001b[38;5;66;03m# Pedir la marca del coche\u001b[39;00m\n\u001b[1;32m---> 40\u001b[0m marca_seleccionada \u001b[38;5;241m=\u001b[39m solicitar_input(\u001b[38;5;124mf\u001b[39m\u001b[38;5;124m\"\u001b[39m\u001b[38;5;124mIntroduce la marca del coche (\u001b[39m\u001b[38;5;132;01m{\u001b[39;00m\u001b[38;5;124m'\u001b[39m\u001b[38;5;124m, \u001b[39m\u001b[38;5;124m'\u001b[39m\u001b[38;5;241m.\u001b[39mjoin(marcas_validas)\u001b[38;5;132;01m}\u001b[39;00m\u001b[38;5;124m): \u001b[39m\u001b[38;5;124m\"\u001b[39m, \u001b[38;5;28mstr\u001b[39m, marcas_validas)\n\u001b[0;32m     42\u001b[0m \u001b[38;5;66;03m# Filtrar modelos que pertenecen a la marca seleccionada\u001b[39;00m\n\u001b[0;32m     43\u001b[0m modelos_validos \u001b[38;5;241m=\u001b[39m df[df[\u001b[38;5;124m'\u001b[39m\u001b[38;5;124mBrand\u001b[39m\u001b[38;5;124m'\u001b[39m] \u001b[38;5;241m==\u001b[39m marca_seleccionada][\u001b[38;5;124m'\u001b[39m\u001b[38;5;124mModel\u001b[39m\u001b[38;5;124m'\u001b[39m]\u001b[38;5;241m.\u001b[39munique()\u001b[38;5;241m.\u001b[39mtolist()\n",
      "Cell \u001b[1;32mIn[1], line 19\u001b[0m, in \u001b[0;36msolicitar_input\u001b[1;34m(mensaje, tipo, valid_values)\u001b[0m\n\u001b[0;32m     17\u001b[0m \u001b[38;5;28;01mdef\u001b[39;00m \u001b[38;5;21msolicitar_input\u001b[39m(mensaje, tipo, valid_values\u001b[38;5;241m=\u001b[39m\u001b[38;5;28;01mNone\u001b[39;00m): \u001b[38;5;66;03m# valid_values: Lista de valores válidos para entradas tipo str. Si no se pone se ajusta por defecto a None.\u001b[39;00m\n\u001b[0;32m     18\u001b[0m     \u001b[38;5;28;01mwhile\u001b[39;00m \u001b[38;5;28;01mTrue\u001b[39;00m: \u001b[38;5;66;03m# Se repite hasta que el usuario ingrese un valor válido.\u001b[39;00m\n\u001b[1;32m---> 19\u001b[0m         valor \u001b[38;5;241m=\u001b[39m \u001b[38;5;28minput\u001b[39m(mensaje)\u001b[38;5;241m.\u001b[39mstrip() \u001b[38;5;66;03m# .strip(): Elimina espacios en blanco al inicio y final.\u001b[39;00m\n\u001b[0;32m     20\u001b[0m         \u001b[38;5;28;01mif\u001b[39;00m tipo \u001b[38;5;241m==\u001b[39m \u001b[38;5;28mint\u001b[39m:\n\u001b[0;32m     21\u001b[0m             \u001b[38;5;28;01mif\u001b[39;00m \u001b[38;5;129;01mnot\u001b[39;00m valor\u001b[38;5;241m.\u001b[39misdigit(): \u001b[38;5;66;03m# isdigit() verifica si la entrada contiene solo dígitos. Es más eficiente que un try except.\u001b[39;00m\n",
      "File \u001b[1;32mE:\\Programas\\Anaconda\\Anaconda\\Lib\\site-packages\\ipykernel\\kernelbase.py:1262\u001b[0m, in \u001b[0;36mKernel.raw_input\u001b[1;34m(self, prompt)\u001b[0m\n\u001b[0;32m   1260\u001b[0m     msg \u001b[38;5;241m=\u001b[39m \u001b[38;5;124m\"\u001b[39m\u001b[38;5;124mraw_input was called, but this frontend does not support input requests.\u001b[39m\u001b[38;5;124m\"\u001b[39m\n\u001b[0;32m   1261\u001b[0m     \u001b[38;5;28;01mraise\u001b[39;00m StdinNotImplementedError(msg)\n\u001b[1;32m-> 1262\u001b[0m \u001b[38;5;28;01mreturn\u001b[39;00m \u001b[38;5;28mself\u001b[39m\u001b[38;5;241m.\u001b[39m_input_request(\n\u001b[0;32m   1263\u001b[0m     \u001b[38;5;28mstr\u001b[39m(prompt),\n\u001b[0;32m   1264\u001b[0m     \u001b[38;5;28mself\u001b[39m\u001b[38;5;241m.\u001b[39m_parent_ident[\u001b[38;5;124m\"\u001b[39m\u001b[38;5;124mshell\u001b[39m\u001b[38;5;124m\"\u001b[39m],\n\u001b[0;32m   1265\u001b[0m     \u001b[38;5;28mself\u001b[39m\u001b[38;5;241m.\u001b[39mget_parent(\u001b[38;5;124m\"\u001b[39m\u001b[38;5;124mshell\u001b[39m\u001b[38;5;124m\"\u001b[39m),\n\u001b[0;32m   1266\u001b[0m     password\u001b[38;5;241m=\u001b[39m\u001b[38;5;28;01mFalse\u001b[39;00m,\n\u001b[0;32m   1267\u001b[0m )\n",
      "File \u001b[1;32mE:\\Programas\\Anaconda\\Anaconda\\Lib\\site-packages\\ipykernel\\kernelbase.py:1305\u001b[0m, in \u001b[0;36mKernel._input_request\u001b[1;34m(self, prompt, ident, parent, password)\u001b[0m\n\u001b[0;32m   1302\u001b[0m \u001b[38;5;28;01mexcept\u001b[39;00m \u001b[38;5;167;01mKeyboardInterrupt\u001b[39;00m:\n\u001b[0;32m   1303\u001b[0m     \u001b[38;5;66;03m# re-raise KeyboardInterrupt, to truncate traceback\u001b[39;00m\n\u001b[0;32m   1304\u001b[0m     msg \u001b[38;5;241m=\u001b[39m \u001b[38;5;124m\"\u001b[39m\u001b[38;5;124mInterrupted by user\u001b[39m\u001b[38;5;124m\"\u001b[39m\n\u001b[1;32m-> 1305\u001b[0m     \u001b[38;5;28;01mraise\u001b[39;00m \u001b[38;5;167;01mKeyboardInterrupt\u001b[39;00m(msg) \u001b[38;5;28;01mfrom\u001b[39;00m \u001b[38;5;28;01mNone\u001b[39;00m\n\u001b[0;32m   1306\u001b[0m \u001b[38;5;28;01mexcept\u001b[39;00m \u001b[38;5;167;01mException\u001b[39;00m:\n\u001b[0;32m   1307\u001b[0m     \u001b[38;5;28mself\u001b[39m\u001b[38;5;241m.\u001b[39mlog\u001b[38;5;241m.\u001b[39mwarning(\u001b[38;5;124m\"\u001b[39m\u001b[38;5;124mInvalid Message:\u001b[39m\u001b[38;5;124m\"\u001b[39m, exc_info\u001b[38;5;241m=\u001b[39m\u001b[38;5;28;01mTrue\u001b[39;00m)\n",
      "\u001b[1;31mKeyboardInterrupt\u001b[0m: Interrupted by user"
     ]
    }
   ],
   "source": [
    "import pandas as pd\n",
    "import joblib\n",
    "\n",
    "# Cargar el modelo y los encoders\n",
    "model = joblib.load('car_price_model.pkl')\n",
    "label_encoders = joblib.load('label_encoders.pkl')\n",
    "\n",
    "# Cargar el dataset para sacar luego los modelos correspondientes a la marca que se introduzca\n",
    "df = pd.read_csv('car_price_dataset.csv')\n",
    "\n",
    "# Sacar la lista de variables categóricas que existan en el dataset\n",
    "marcas_validas = list(label_encoders['Brand'].classes_) # .classes_ (Atributo de LabelEncoder, array con todas los tipos de marcas únicas en este caso)\n",
    "combustibles_validos = list(label_encoders['Fuel_Type'].classes_)\n",
    "transmisiones_validas = list(label_encoders['Transmission'].classes_)\n",
    "\n",
    "# Función para solicitar entrada validada\n",
    "def solicitar_input(mensaje, tipo, valid_values=None): # valid_values: Lista de valores válidos para entradas tipo str. Si no se pone se ajusta por defecto a None.\n",
    "    while True: # Se repite hasta que el usuario ingrese un valor válido.\n",
    "        valor = input(mensaje).strip() # .strip(): Elimina espacios en blanco al inicio y final.\n",
    "        if tipo == int:\n",
    "            if not valor.isdigit(): # isdigit() verifica si la entrada contiene solo dígitos. Es más eficiente que un try except.\n",
    "                print(\"Error: Debes ingresar un número entero.\")\n",
    "                continue # Valor inválido, en python 'continue' hace que el bucle avance a la siguiente iteración\n",
    "            return int(valor)\n",
    "        \n",
    "        elif tipo == float:\n",
    "            try:\n",
    "                return float(valor)\n",
    "            except ValueError:\n",
    "                print(\"Error: Debes ingresar un número válido con decimales (ej: 1.8).\")\n",
    "                continue\n",
    "\n",
    "        elif tipo == str:\n",
    "            if valid_values and valor not in valid_values: # (None se interpreta como false.)\n",
    "                print(f\"Error: El valor '{valor}' no es válido. Opciones disponibles: {', '.join(valid_values)}\") # join conecta cada valor seprado por ,\n",
    "                continue\n",
    "            return valor\n",
    "\n",
    "# Pedir la marca del coche\n",
    "marca_seleccionada = solicitar_input(f\"Introduce la marca del coche ({', '.join(marcas_validas)}): \", str, marcas_validas)\n",
    "\n",
    "# Filtrar modelos que pertenecen a la marca seleccionada\n",
    "modelos_validos = df[df['Brand'] == marca_seleccionada]['Model'].unique().tolist()\n",
    "\n",
    "# Pedir el modelo dentro de los disponibles para la marca seleccionada\n",
    "modelo_seleccionado = solicitar_input(f\"Introduce el modelo del coche ({', '.join(modelos_validos)}): \", str, modelos_validos)\n",
    "\n",
    "# Seguir pidiendo el resto de datos\n",
    "nuevo_coche = {\n",
    "    'Brand': marca_seleccionada,\n",
    "    'Model': modelo_seleccionado,\n",
    "    'Year': solicitar_input(\"Introduce el año del coche: \", int),\n",
    "    'Engine_Size': solicitar_input(\"Introduce el tamaño del motor (en litros): \", float),\n",
    "    'Fuel_Type': solicitar_input(f\"Introduce el tipo de combustible ({', '.join(combustibles_validos)}): \", str, combustibles_validos),\n",
    "    'Transmission': solicitar_input(f\"Introduce el tipo de transmisión ({', '.join(transmisiones_validas)}): \", str, transmisiones_validas),\n",
    "    'Mileage': solicitar_input(\"Introduce el kilometraje en kilómetros: \", int) * 0.621371, # Conversión a millas (Más cómodo para el usuario).\n",
    "    'Doors': solicitar_input(\"Introduce el número de puertas: \", int),\n",
    "    'Owner_Count': solicitar_input(\"Introduce el número de dueños anteriores: \", int)\n",
    "}\n",
    "\n",
    "# Convertir el coche a DataFrame\n",
    "nuevo_coche_df = pd.DataFrame([nuevo_coche])\n",
    "\n",
    "# Convertir las variables categóricas a su codificación numérica\n",
    "categorical_columns = ['Brand', 'Model', 'Fuel_Type', 'Transmission']\n",
    "for column in categorical_columns:\n",
    "    nuevo_coche_df[column] = label_encoders[column].transform(nuevo_coche_df[column])\n",
    "\n",
    "# Asegurar que las columnas están en el mismo orden que el modelo espera\n",
    "nuevo_coche_df = nuevo_coche_df[model.feature_names_in_]\n",
    "\n",
    "# Realizar la predicción\n",
    "prediccion = model.predict(nuevo_coche_df)\n",
    "\n",
    "print(f'El precio estimado del coche es: {prediccion[0]:,.2f} $')"
   ]
  }
 ],
 "metadata": {
  "kernelspec": {
   "display_name": "Python 3 (ipykernel)",
   "language": "python",
   "name": "python3"
  },
  "language_info": {
   "codemirror_mode": {
    "name": "ipython",
    "version": 3
   },
   "file_extension": ".py",
   "mimetype": "text/x-python",
   "name": "python",
   "nbconvert_exporter": "python",
   "pygments_lexer": "ipython3",
   "version": "3.12.7"
  }
 },
 "nbformat": 4,
 "nbformat_minor": 5
}
