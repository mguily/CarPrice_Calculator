{
 "cells": [
  {
   "cell_type": "code",
   "execution_count": 6,
   "id": "82b2cd8c-d8f0-4b56-b57e-86dabc0d2186",
   "metadata": {},
   "outputs": [
    {
     "name": "stdout",
     "output_type": "stream",
     "text": [
      "El precio estimado del coche es: 10154.831337603391\n"
     ]
    }
   ],
   "source": [
    "import pandas as pd\n",
    "import joblib\n",
    "\n",
    "model = joblib.load('car_price_model.pkl')\n",
    "\n",
    "def validate_input(car_input):\n",
    "    for column, value in car_input.items():\n",
    "        if column in label_encoders and value not in label_encoders[column].classes_:\n",
    "            print(f\"Error: El valor '{value}' para {column} no existe en el conjunto de datos.\")\n",
    "            return False\n",
    "    return True\n",
    "\n",
    "label_encoders = joblib.load('label_encoders.pkl')\n",
    "\n",
    "nuevo_coche = {\n",
    "    'Brand': 'Kia',  # Sustituye con valores reales\n",
    "    'Model': 'Sportage',\n",
    "    'Year': 2014, \n",
    "    'Engine_Size': 2.6,\n",
    "    'Fuel_Type': 'Hybrid',\n",
    "    'Transmission': 'Manual',\n",
    "    'Mileage': 98700,\n",
    "    'Doors': 3,\n",
    "    'Owner_Count': 4\n",
    "}\n",
    "\n",
    "if not validate_input(nuevo_coche):\n",
    "    print(\"No se puede realizar la predicción debido a valores no válidos.\")\n",
    "\n",
    "else:\n",
    "    \n",
    "    nuevo_coche_df = pd.DataFrame([nuevo_coche])\n",
    "    \n",
    "    categorical_columns = ['Brand', 'Model', 'Fuel_Type', 'Transmission']\n",
    "    \n",
    "    for column in categorical_columns:\n",
    "        if column in label_encoders:  # Verificar que el encoder existe\n",
    "            nuevo_coche_df[column] = label_encoders[column].transform(nuevo_coche_df[column])\n",
    "    \n",
    "    # Asegurar que las columnas están en el mismo orden que el modelo espera\n",
    "    nuevo_coche_df = nuevo_coche_df[model.feature_names_in_]\n",
    "    \n",
    "    prediccion = model.predict(nuevo_coche_df)\n",
    "    \n",
    "    print(f'El precio estimado del coche es: {prediccion[0]}')"
   ]
  }
 ],
 "metadata": {
  "kernelspec": {
   "display_name": "Python 3 (ipykernel)",
   "language": "python",
   "name": "python3"
  },
  "language_info": {
   "codemirror_mode": {
    "name": "ipython",
    "version": 3
   },
   "file_extension": ".py",
   "mimetype": "text/x-python",
   "name": "python",
   "nbconvert_exporter": "python",
   "pygments_lexer": "ipython3",
   "version": "3.11.0"
  }
 },
 "nbformat": 4,
 "nbformat_minor": 5
}
