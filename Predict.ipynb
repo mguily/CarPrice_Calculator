{
 "cells": [
  {
   "cell_type": "code",
   "execution_count": 2,
   "id": "82b2cd8c-d8f0-4b56-b57e-86dabc0d2186",
   "metadata": {},
   "outputs": [
    {
     "name": "stdin",
     "output_type": "stream",
     "text": [
      "Introduce la marca del coche (Audi, BMW, Chevrolet, Ford, Honda, Hyundai, Kia, Mercedes, Toyota, Volkswagen):  Opel\n"
     ]
    },
    {
     "name": "stdout",
     "output_type": "stream",
     "text": [
      "Error: El valor 'Opel' no es válido. Opciones disponibles: Audi, BMW, Chevrolet, Ford, Honda, Hyundai, Kia, Mercedes, Toyota, Volkswagen\n"
     ]
    },
    {
     "name": "stdin",
     "output_type": "stream",
     "text": [
      "Introduce la marca del coche (Audi, BMW, Chevrolet, Ford, Honda, Hyundai, Kia, Mercedes, Toyota, Volkswagen):  Mercedes\n",
      "Introduce el modelo del coche (GLA, E-Class, C-Class):  GLA\n",
      "Introduce el año del coche:  2022\n",
      "Introduce el tamaño del motor (en litros):  3\n",
      "Introduce el tipo de combustible (Diesel, Electric, Hybrid, Petrol):  Hybrid\n",
      "Introduce el tipo de transmisión (Automatic, Manual, Semi-Automatic):  Automatic\n",
      "Introduce el kilometraje en kilómetros:  0\n",
      "Introduce el número de puertas:  4\n",
      "Introduce el número de dueños anteriores:  0\n"
     ]
    },
    {
     "name": "stdout",
     "output_type": "stream",
     "text": [
      "El precio estimado del coche es: 15,644.33 $\n"
     ]
    }
   ],
   "source": [
    "import pandas as pd\n",
    "import joblib\n",
    "\n",
    "# Cargar el modelo y los encoders\n",
    "model = joblib.load('car_price_model.pkl')\n",
    "label_encoders = joblib.load('label_encoders.pkl')\n",
    "\n",
    "# Cargar el dataset para sacar luego los modelos correspondientes a la marca que se introduzca\n",
    "df = pd.read_csv('car_price_dataset.csv')\n",
    "\n",
    "# Sacar la lista de variables categóricas que existan en el dataset\n",
    "marcas_validas = list(label_encoders['Brand'].classes_) # .classes_ (Atributo de LabelEncoder, array con todas los tipos de marcas únicas en este caso)\n",
    "combustibles_validos = list(label_encoders['Fuel_Type'].classes_)\n",
    "transmisiones_validas = list(label_encoders['Transmission'].classes_)\n",
    "\n",
    "# Función para solicitar entrada validada\n",
    "def solicitar_input(mensaje, tipo, valid_values=None): # valid_values: Lista de valores válidos para entradas tipo str. Si no se pone se ajusta por defecto a None.\n",
    "    while True: # Se repite hasta que el usuario ingrese un valor válido.\n",
    "        valor = input(mensaje).strip() # .strip(): Elimina espacios en blanco al inicio y final.\n",
    "        if tipo == int:\n",
    "            if not valor.isdigit(): # isdigit() verifica si la entrada contiene solo dígitos. Es más eficiente que un try except.\n",
    "                print(\"Error: Debes ingresar un número entero.\")\n",
    "                continue # Valor inválido, en python 'continue' hace que el bucle avance a la siguiente iteración\n",
    "            return int(valor)\n",
    "        \n",
    "        elif tipo == float:\n",
    "            try:\n",
    "                return float(valor)\n",
    "            except ValueError:\n",
    "                print(\"Error: Debes ingresar un número válido con decimales (ej: 1.8).\")\n",
    "                continue\n",
    "\n",
    "        elif tipo == str:\n",
    "            if valid_values and valor not in valid_values: # (None se interpreta como false.)\n",
    "                print(f\"Error: El valor '{valor}' no es válido. Opciones disponibles: {', '.join(valid_values)}\") # join conecta cada valor seprado por ,\n",
    "                continue\n",
    "            return valor\n",
    "\n",
    "# Pedir la marca del coche\n",
    "marca_seleccionada = solicitar_input(f\"Introduce la marca del coche ({', '.join(marcas_validas)}): \", str, marcas_validas)\n",
    "\n",
    "# Filtrar modelos que pertenecen a la marca seleccionada\n",
    "modelos_validos = df[df['Brand'] == marca_seleccionada]['Model'].unique().tolist()\n",
    "\n",
    "# Pedir el modelo dentro de los disponibles para la marca seleccionada\n",
    "modelo_seleccionado = solicitar_input(f\"Introduce el modelo del coche ({', '.join(modelos_validos)}): \", str, modelos_validos)\n",
    "\n",
    "# Seguir pidiendo el resto de datos\n",
    "nuevo_coche = {\n",
    "    'Brand': marca_seleccionada,\n",
    "    'Model': modelo_seleccionado,\n",
    "    'Year': solicitar_input(\"Introduce el año del coche: \", int),\n",
    "    'Engine_Size': solicitar_input(\"Introduce el tamaño del motor (en litros): \", float),\n",
    "    'Fuel_Type': solicitar_input(f\"Introduce el tipo de combustible ({', '.join(combustibles_validos)}): \", str, combustibles_validos),\n",
    "    'Transmission': solicitar_input(f\"Introduce el tipo de transmisión ({', '.join(transmisiones_validas)}): \", str, transmisiones_validas),\n",
    "    'Mileage': solicitar_input(\"Introduce el kilometraje en kilómetros: \", int) * 0.621371, # Conversión a millas (Más cómodo para el usuario).\n",
    "    'Doors': solicitar_input(\"Introduce el número de puertas: \", int),\n",
    "    'Owner_Count': solicitar_input(\"Introduce el número de dueños anteriores: \", int)\n",
    "}\n",
    "\n",
    "# Convertir el coche a DataFrame\n",
    "nuevo_coche_df = pd.DataFrame([nuevo_coche])\n",
    "\n",
    "# Convertir las variables categóricas a su codificación numérica\n",
    "categorical_columns = ['Brand', 'Model', 'Fuel_Type', 'Transmission']\n",
    "for column in categorical_columns:\n",
    "    nuevo_coche_df[column] = label_encoders[column].transform(nuevo_coche_df[column])\n",
    "\n",
    "# Asegurar que las columnas están en el mismo orden que el modelo espera\n",
    "nuevo_coche_df = nuevo_coche_df[model.feature_names_in_]\n",
    "\n",
    "# Realizar la predicción\n",
    "prediccion = model.predict(nuevo_coche_df)\n",
    "\n",
    "print(f'El precio estimado del coche es: {prediccion[0]:,.2f} $')"
   ]
  }
 ],
 "metadata": {
  "kernelspec": {
   "display_name": "Python 3 (ipykernel)",
   "language": "python",
   "name": "python3"
  },
  "language_info": {
   "codemirror_mode": {
    "name": "ipython",
    "version": 3
   },
   "file_extension": ".py",
   "mimetype": "text/x-python",
   "name": "python",
   "nbconvert_exporter": "python",
   "pygments_lexer": "ipython3",
   "version": "3.12.7"
  }
 },
 "nbformat": 4,
 "nbformat_minor": 5
}
