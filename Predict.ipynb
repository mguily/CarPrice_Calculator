{
 "cells": [
  {
   "cell_type": "code",
   "execution_count": 16,
   "id": "82b2cd8c-d8f0-4b56-b57e-86dabc0d2186",
   "metadata": {},
   "outputs": [
    {
     "name": "stdin",
     "output_type": "stream",
     "text": [
      "Introduce la marca del coche (Audi, BMW, Chevrolet, Ford, Honda, Hyundai, Kia, Mercedes, Toyota, Volkswagen):  Kia\n",
      "Introduce el modelo del coche (Rio, Sportage, Optima):  Sportage\n",
      "Introduce el año del coche:  2014\n",
      "Introduce el tamaño del motor (en litros):  2.6\n",
      "Introduce el tipo de combustible (Diesel, Electric, Hybrid, Petrol):  Hybrid\n",
      "Introduce el tipo de transmisión (Automatic, Manual, Semi-Automatic):  Manual\n",
      "Introduce el kilometraje:  98700\n",
      "Introduce el número de puertas:  3\n",
      "Introduce el número de dueños anteriores:  4\n"
     ]
    },
    {
     "name": "stdout",
     "output_type": "stream",
     "text": [
      "El precio estimado del coche es: 10,154.83 $\n"
     ]
    }
   ],
   "source": [
    "import pandas as pd\n",
    "import joblib\n",
    "\n",
    "# Cargar el modelo y los encoders\n",
    "model = joblib.load('car_price_model.pkl')\n",
    "label_encoders = joblib.load('label_encoders.pkl')\n",
    "\n",
    "# Cargar el dataset original para obtener la relación entre marcas y modelos\n",
    "df = pd.read_csv('car_price_dataset.csv')\n",
    "\n",
    "# Obtener valores válidos de los encoders\n",
    "marcas_validas = list(label_encoders['Brand'].classes_)\n",
    "combustibles_validos = list(label_encoders['Fuel_Type'].classes_)\n",
    "transmisiones_validas = list(label_encoders['Transmission'].classes_)\n",
    "\n",
    "# Función para solicitar entrada validada\n",
    "def solicitar_input(mensaje, tipo, valid_values=None):\n",
    "    while True:\n",
    "        valor = input(mensaje).strip()\n",
    "        if tipo == int:\n",
    "            if not valor.isdigit():\n",
    "                print(\"Error: Debes ingresar un número entero.\")\n",
    "                continue\n",
    "            return int(valor)\n",
    "        \n",
    "        elif tipo == float:\n",
    "            try:\n",
    "                return float(valor)\n",
    "            except ValueError:\n",
    "                print(\"Error: Debes ingresar un número válido con decimales (ej: 1.8).\")\n",
    "                continue\n",
    "\n",
    "        elif tipo == str:\n",
    "            if valid_values and valor not in valid_values:\n",
    "                print(f\"Error: El valor '{valor}' no es válido. Opciones disponibles: {', '.join(valid_values)}\")\n",
    "                continue\n",
    "            return valor\n",
    "\n",
    "# Pedir la marca del coche\n",
    "marca_seleccionada = solicitar_input(f\"Introduce la marca del coche ({', '.join(marcas_validas)}): \", str, marcas_validas)\n",
    "\n",
    "# Filtrar modelos que pertenecen a la marca seleccionada\n",
    "modelos_validos = df[df['Brand'] == marca_seleccionada]['Model'].unique().tolist()\n",
    "\n",
    "# Pedir el modelo dentro de los disponibles para la marca seleccionada\n",
    "modelo_seleccionado = solicitar_input(f\"Introduce el modelo del coche ({', '.join(modelos_validos)}): \", str, modelos_validos)\n",
    "\n",
    "# Seguir pidiendo el resto de datos\n",
    "nuevo_coche = {\n",
    "    'Brand': marca_seleccionada,\n",
    "    'Model': modelo_seleccionado,\n",
    "    'Year': solicitar_input(\"Introduce el año del coche: \", int),\n",
    "    'Engine_Size': solicitar_input(\"Introduce el tamaño del motor (en litros): \", float),\n",
    "    'Fuel_Type': solicitar_input(f\"Introduce el tipo de combustible ({', '.join(combustibles_validos)}): \", str, combustibles_validos),\n",
    "    'Transmission': solicitar_input(f\"Introduce el tipo de transmisión ({', '.join(transmisiones_validas)}): \", str, transmisiones_validas),\n",
    "    'Mileage': solicitar_input(\"Introduce el kilometraje: \", int),\n",
    "    'Doors': solicitar_input(\"Introduce el número de puertas: \", int),\n",
    "    'Owner_Count': solicitar_input(\"Introduce el número de dueños anteriores: \", int)\n",
    "}\n",
    "\n",
    "# Convertir a DataFrame\n",
    "nuevo_coche_df = pd.DataFrame([nuevo_coche])\n",
    "\n",
    "# Convertir las variables categóricas a su codificación numérica\n",
    "categorical_columns = ['Brand', 'Model', 'Fuel_Type', 'Transmission']\n",
    "for column in categorical_columns:\n",
    "    nuevo_coche_df[column] = label_encoders[column].transform(nuevo_coche_df[column])\n",
    "\n",
    "# Asegurar que las columnas están en el mismo orden que el modelo espera\n",
    "nuevo_coche_df = nuevo_coche_df[model.feature_names_in_]\n",
    "\n",
    "# Realizar la predicción\n",
    "prediccion = model.predict(nuevo_coche_df)\n",
    "\n",
    "print(f'El precio estimado del coche es: {prediccion[0]:,.2f} $')"
   ]
  }
 ],
 "metadata": {
  "kernelspec": {
   "display_name": "Python 3 (ipykernel)",
   "language": "python",
   "name": "python3"
  },
  "language_info": {
   "codemirror_mode": {
    "name": "ipython",
    "version": 3
   },
   "file_extension": ".py",
   "mimetype": "text/x-python",
   "name": "python",
   "nbconvert_exporter": "python",
   "pygments_lexer": "ipython3",
   "version": "3.11.0"
  }
 },
 "nbformat": 4,
 "nbformat_minor": 5
}
