{
 "cells": [
  {
   "cell_type": "code",
   "execution_count": 1,
   "id": "f19bede9-6b93-45ea-9c1c-1df81a5a598a",
   "metadata": {},
   "outputs": [
    {
     "data": {
      "text/plain": [
       "['car_price_model_GB.pkl']"
      ]
     },
     "execution_count": 1,
     "metadata": {},
     "output_type": "execute_result"
    }
   ],
   "source": [
    "import pandas as pd\n",
    "from sklearn.model_selection import train_test_split\n",
    "from sklearn.preprocessing import LabelEncoder\n",
    "from sklearn.ensemble import GradientBoostingRegressor\n",
    "from sklearn.metrics import mean_absolute_error, mean_squared_error, r2_score\n",
    "import joblib as jb\n",
    "\n",
    "# Cargar dataset\n",
    "car_df = pd.read_csv('../car_price_dataset.csv')\n",
    "\n",
    "# Codificación de variables categóricas\n",
    "label_encoders = {}\n",
    "categorical_columns = ['Brand', 'Model', 'Fuel_Type', 'Transmission']\n",
    "\n",
    "for column in categorical_columns:\n",
    "    le = LabelEncoder()\n",
    "    car_df[column] = le.fit_transform(car_df[column])\n",
    "    label_encoders[column] = le  # Guardar para transformaciones futuras\n",
    "\n",
    "jb.dump(label_encoders, 'label_encoders_GB.pkl')\n",
    "\n",
    "# Separación en variables independientes y objetivo\n",
    "X = car_df.drop(columns=['Price'])\n",
    "y = car_df['Price']\n",
    "\n",
    "# División en datos de entrenamiento y prueba\n",
    "X_train, X_test, y_train, y_test = train_test_split(X, y, test_size=0.2, random_state=42)\n",
    "\n",
    "# Entrenar modelo Gradient Boosting\n",
    "model = GradientBoostingRegressor(n_estimators=1000, learning_rate=0.01, max_depth=6, subsample=0.8, random_state=42)\n",
    "model.fit(X_train, y_train)\n",
    "\n",
    "# Guardar el modelo\n",
    "jb.dump(model, 'car_price_model_GB.pkl')"
   ]
  }
 ],
 "metadata": {
  "kernelspec": {
   "display_name": "Python 3 (ipykernel)",
   "language": "python",
   "name": "python3"
  },
  "language_info": {
   "codemirror_mode": {
    "name": "ipython",
    "version": 3
   },
   "file_extension": ".py",
   "mimetype": "text/x-python",
   "name": "python",
   "nbconvert_exporter": "python",
   "pygments_lexer": "ipython3",
   "version": "3.12.7"
  }
 },
 "nbformat": 4,
 "nbformat_minor": 5
}
